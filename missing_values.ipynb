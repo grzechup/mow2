{
 "cells": [
  {
   "cell_type": "code",
   "execution_count": 201,
   "metadata": {},
   "outputs": [],
   "source": [
    "import pandas as pd\n",
    "import numpy as np"
   ]
  },
  {
   "cell_type": "markdown",
   "metadata": {},
   "source": [
    "# 1. Load CSV full_sensor_data to DataFrame"
   ]
  },
  {
   "cell_type": "code",
   "execution_count": 202,
   "metadata": {},
   "outputs": [],
   "source": [
    "history = pd.read_csv(\"data/full_sensor_data.csv\", parse_dates=True, index_col=\"UTC time\")"
   ]
  },
  {
   "cell_type": "markdown",
   "metadata": {},
   "source": [
    "## 1.1. Data group by 1Day"
   ]
  },
  {
   "cell_type": "code",
   "execution_count": 203,
   "metadata": {},
   "outputs": [],
   "source": [
    "history_aggegated_1D = history.groupby(pd.Grouper(freq='1D')).mean()"
   ]
  },
  {
   "cell_type": "markdown",
   "metadata": {},
   "source": [
    "### Creating MultiIndex"
   ]
  },
  {
   "cell_type": "code",
   "execution_count": 204,
   "metadata": {},
   "outputs": [],
   "source": [
    "history_aggegated_1D.columns = pd.MultiIndex.from_tuples([(c.split('_')[0], c.split('_')[1]) for c in history_aggegated_1D.columns])"
   ]
  },
  {
   "cell_type": "markdown",
   "metadata": {},
   "source": [
    "### Merging data from pairs of sensors with the similar locations"
   ]
  },
  {
   "cell_type": "code",
   "execution_count": 205,
   "metadata": {},
   "outputs": [],
   "source": [
    "sensor_pairs = [('3','140'),('227','857'),('178','713'),('142','895'),('187','808'),('211','622')]\n",
    "combinedes = pd.DataFrame()\n",
    "for pair in sensor_pairs:\n",
    "    combined = history_aggegated_1D[pair[0]].combine_first(history_aggegated_1D[pair[1]])\n",
    "    combined.columns = pd.MultiIndex.from_product([[pair[0]+'_'+pair[1]],combined.columns])\n",
    "    combinedes = pd.concat([combinedes,combined], axis=1)\n",
    "history_aggegated_1D = pd.concat([history_aggegated_1D, combinedes], axis=1)\n",
    "history_aggegated_1D = history_aggegated_1D.drop(columns=['3','140','227','857','178','713','142','895','187','808','211','622'], level=0)"
   ]
  },
  {
   "cell_type": "markdown",
   "metadata": {},
   "source": [
    "### 1.1.1. Imputing using mean"
   ]
  },
  {
   "cell_type": "code",
   "execution_count": 206,
   "metadata": {},
   "outputs": [],
   "source": [
    "filled_mean_history_aggegated_1D = history_aggegated_1D.fillna(history_aggegated_1D.mean())"
   ]
  },
  {
   "cell_type": "markdown",
   "metadata": {},
   "source": [
    "### 1.1.2. Imputing using the meadian"
   ]
  },
  {
   "cell_type": "code",
   "execution_count": 207,
   "metadata": {},
   "outputs": [],
   "source": [
    "filled_median_history_aggegated_1D = history_aggegated_1D.fillna(history_aggegated_1D.median())"
   ]
  },
  {
   "cell_type": "markdown",
   "metadata": {},
   "source": [
    "### 1.1.3 Imputing using the rolling mean + imputing using mean for Nan for which rolling mean doesn't work"
   ]
  },
  {
   "cell_type": "code",
   "execution_count": 208,
   "metadata": {},
   "outputs": [],
   "source": [
    "filled_rolling_mean_history_aggegated_1D = history_aggegated_1D.fillna(history_aggegated_1D.rolling(24, min_periods=1).mean())\n",
    "filled_rolling_mean_history_aggegated_1D = filled_rolling_mean_history_aggegated_1D.fillna(filled_rolling_mean_history_aggegated_1D.mean())"
   ]
  },
  {
   "cell_type": "markdown",
   "metadata": {},
   "source": [
    "### 1.1.4 Imputing using the rolling median + imputing using median for Nan for which rolling median doesn't work"
   ]
  },
  {
   "cell_type": "code",
   "execution_count": 209,
   "metadata": {},
   "outputs": [],
   "source": [
    "filled_rolling_median_history_aggegated_1D = history_aggegated_1D.fillna(history_aggegated_1D.rolling(24, min_periods=1).median())\n",
    "filled_rolling_median_history_aggegated_1D = filled_rolling_median_history_aggegated_1D.fillna(filled_rolling_median_history_aggegated_1D.median())"
   ]
  },
  {
   "cell_type": "markdown",
   "metadata": {},
   "source": [
    "### 1.1.5 Imputing using the interpolation with linear method"
   ]
  },
  {
   "cell_type": "code",
   "execution_count": 210,
   "metadata": {},
   "outputs": [],
   "source": [
    "filled_interpolation_linear_history_aggegated_1D = history_aggegated_1D.interpolate(method='linear')"
   ]
  },
  {
   "cell_type": "markdown",
   "metadata": {},
   "source": [
    "### 1.1.6 Imputing using the interpolation with time method"
   ]
  },
  {
   "cell_type": "code",
   "execution_count": 211,
   "metadata": {},
   "outputs": [],
   "source": [
    "filled_interpolation_time_history_aggegated_1D = history_aggegated_1D.interpolate(method='time')"
   ]
  },
  {
   "cell_type": "markdown",
   "metadata": {},
   "source": [
    "### 1.1.7 Imputing using the interpolation with quadratic method"
   ]
  },
  {
   "cell_type": "code",
   "execution_count": 212,
   "metadata": {},
   "outputs": [],
   "source": [
    "filled_interpolation_quadratic_history_aggegated_1D = history_aggegated_1D.interpolate(method='quadratic')"
   ]
  },
  {
   "cell_type": "markdown",
   "metadata": {},
   "source": [
    "## 1.2. Data group by 2Day"
   ]
  },
  {
   "cell_type": "code",
   "execution_count": 213,
   "metadata": {},
   "outputs": [],
   "source": [
    "history_aggegated_2D = history.groupby(pd.Grouper(freq='2D')).mean()"
   ]
  },
  {
   "cell_type": "markdown",
   "metadata": {},
   "source": [
    "### Creating MultiIndex"
   ]
  },
  {
   "cell_type": "code",
   "execution_count": 214,
   "metadata": {},
   "outputs": [],
   "source": [
    "history_aggegated_2D.columns = pd.MultiIndex.from_tuples([(c.split('_')[0], c.split('_')[1]) for c in history_aggegated_2D.columns])"
   ]
  },
  {
   "cell_type": "markdown",
   "metadata": {},
   "source": [
    "### Merging data from pairs of sensors with the similar locations"
   ]
  },
  {
   "cell_type": "code",
   "execution_count": 215,
   "metadata": {},
   "outputs": [],
   "source": [
    "sensor_pairs = [('3','140'),('227','857'),('178','713'),('142','895'),('187','808'),('211','622')]\n",
    "combinedes = pd.DataFrame()\n",
    "for pair in sensor_pairs:\n",
    "    combined = history_aggegated_2D[pair[0]].combine_first(history_aggegated_2D[pair[1]])\n",
    "    combined.columns = pd.MultiIndex.from_product([[pair[0]+'_'+pair[1]],combined.columns])\n",
    "    combinedes = pd.concat([combinedes,combined], axis=1)\n",
    "history_aggegated_2D = pd.concat([history_aggegated_2D, combinedes], axis=1)\n",
    "history_aggegated_2D = history_aggegated_2D.drop(columns=['3','140','227','857','178','713','142','895','187','808','211','622'], level=0)"
   ]
  },
  {
   "cell_type": "markdown",
   "metadata": {},
   "source": [
    "### 1.2.1. Imputing using mean"
   ]
  },
  {
   "cell_type": "code",
   "execution_count": 216,
   "metadata": {},
   "outputs": [],
   "source": [
    "filled_mean_history_aggegated_2D = history_aggegated_2D.fillna(history_aggegated_1D.mean())"
   ]
  },
  {
   "cell_type": "markdown",
   "metadata": {},
   "source": [
    "### 1.2.2. Imputing using the meadian"
   ]
  },
  {
   "cell_type": "code",
   "execution_count": 217,
   "metadata": {},
   "outputs": [],
   "source": [
    "filled_median_history_aggegated_2D = history_aggegated_2D.fillna(history_aggegated_2D.median())"
   ]
  },
  {
   "cell_type": "markdown",
   "metadata": {},
   "source": [
    "### 1.2.3 Imputing using the rolling mean + imputing using mean for Nan for which rolling mean doesn't work"
   ]
  },
  {
   "cell_type": "code",
   "execution_count": 218,
   "metadata": {},
   "outputs": [],
   "source": [
    "filled_rolling_mean_history_aggegated_2D = history_aggegated_2D.fillna(history_aggegated_2D.rolling(24, min_periods=1).mean())\n",
    "filled_rolling_mean_history_aggegated_2D = filled_rolling_mean_history_aggegated_2D.fillna(filled_rolling_mean_history_aggegated_2D.mean())"
   ]
  },
  {
   "cell_type": "markdown",
   "metadata": {},
   "source": [
    "### 1.2.4 Imputing using the rolling median + imputing using median for Nan for which rolling median doesn't work"
   ]
  },
  {
   "cell_type": "code",
   "execution_count": 219,
   "metadata": {},
   "outputs": [],
   "source": [
    "filled_rolling_median_history_aggegated_2D = history_aggegated_2D.fillna(history_aggegated_2D.rolling(24, min_periods=1).median())\n",
    "filled_rolling_median_history_aggegated_2D = filled_rolling_median_history_aggegated_2D.fillna(filled_rolling_median_history_aggegated_2D.median())"
   ]
  },
  {
   "cell_type": "markdown",
   "metadata": {},
   "source": [
    "### 1.2.5 Imputing using the interpolation with linear method"
   ]
  },
  {
   "cell_type": "code",
   "execution_count": 220,
   "metadata": {},
   "outputs": [],
   "source": [
    "filled_interpolation_linear_history_aggegated_2D = history_aggegated_2D.interpolate(method='linear')"
   ]
  },
  {
   "cell_type": "markdown",
   "metadata": {},
   "source": [
    "### 1.2.6 Imputing using the interpolation with time method"
   ]
  },
  {
   "cell_type": "code",
   "execution_count": 221,
   "metadata": {},
   "outputs": [],
   "source": [
    "filled_interpolation_time_history_aggegated_2D = history_aggegated_2D.interpolate(method='time')"
   ]
  },
  {
   "cell_type": "markdown",
   "metadata": {},
   "source": [
    "### 1.2.7 Imputing using the interpolation with quadratic method"
   ]
  },
  {
   "cell_type": "code",
   "execution_count": 222,
   "metadata": {},
   "outputs": [],
   "source": [
    "filled_interpolation_quadratic_history_aggegated_2D = history_aggegated_2D.interpolate(method='quadratic')"
   ]
  }
 ],
 "metadata": {
  "kernelspec": {
   "display_name": "Python 3",
   "language": "python",
   "name": "python3"
  },
  "language_info": {
   "codemirror_mode": {
    "name": "ipython",
    "version": 3
   },
   "file_extension": ".py",
   "mimetype": "text/x-python",
   "name": "python",
   "nbconvert_exporter": "python",
   "pygments_lexer": "ipython3",
   "version": "3.7.6"
  }
 },
 "nbformat": 4,
 "nbformat_minor": 4
}
